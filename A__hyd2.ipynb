{
  "cells": [
    {
      "cell_type": "markdown",
      "metadata": {
        "id": "view-in-github",
        "colab_type": "text"
      },
      "source": [
        "<a href=\"https://colab.research.google.com/github/NeuralDataMind/A-Algorithm-Path-finding-in-map/blob/main/A__hyd2.ipynb\" target=\"_parent\"><img src=\"https://colab.research.google.com/assets/colab-badge.svg\" alt=\"Open In Colab\"/></a>"
      ]
    },
    {
      "cell_type": "code",
      "source": [
        "pip install osmnx networkx folium"
      ],
      "metadata": {
        "colab": {
          "base_uri": "https://localhost:8080/"
        },
        "id": "fRQL_z70VGU7",
        "outputId": "611bd470-a982-4cd2-8450-ace5c6a03aa5"
      },
      "execution_count": 1,
      "outputs": [
        {
          "output_type": "stream",
          "name": "stdout",
          "text": [
            "Collecting osmnx\n",
            "  Downloading osmnx-2.0.6-py3-none-any.whl.metadata (4.9 kB)\n",
            "Requirement already satisfied: networkx in /usr/local/lib/python3.12/dist-packages (3.5)\n",
            "Requirement already satisfied: folium in /usr/local/lib/python3.12/dist-packages (0.20.0)\n",
            "Requirement already satisfied: geopandas>=1.0.1 in /usr/local/lib/python3.12/dist-packages (from osmnx) (1.1.1)\n",
            "Requirement already satisfied: numpy>=1.22 in /usr/local/lib/python3.12/dist-packages (from osmnx) (2.0.2)\n",
            "Requirement already satisfied: pandas>=1.4 in /usr/local/lib/python3.12/dist-packages (from osmnx) (2.2.2)\n",
            "Requirement already satisfied: requests>=2.27 in /usr/local/lib/python3.12/dist-packages (from osmnx) (2.32.4)\n",
            "Requirement already satisfied: shapely>=2.0 in /usr/local/lib/python3.12/dist-packages (from osmnx) (2.1.1)\n",
            "Requirement already satisfied: branca>=0.6.0 in /usr/local/lib/python3.12/dist-packages (from folium) (0.8.1)\n",
            "Requirement already satisfied: jinja2>=2.9 in /usr/local/lib/python3.12/dist-packages (from folium) (3.1.6)\n",
            "Requirement already satisfied: xyzservices in /usr/local/lib/python3.12/dist-packages (from folium) (2025.4.0)\n",
            "Requirement already satisfied: pyogrio>=0.7.2 in /usr/local/lib/python3.12/dist-packages (from geopandas>=1.0.1->osmnx) (0.11.1)\n",
            "Requirement already satisfied: packaging in /usr/local/lib/python3.12/dist-packages (from geopandas>=1.0.1->osmnx) (25.0)\n",
            "Requirement already satisfied: pyproj>=3.5.0 in /usr/local/lib/python3.12/dist-packages (from geopandas>=1.0.1->osmnx) (3.7.2)\n",
            "Requirement already satisfied: MarkupSafe>=2.0 in /usr/local/lib/python3.12/dist-packages (from jinja2>=2.9->folium) (3.0.2)\n",
            "Requirement already satisfied: python-dateutil>=2.8.2 in /usr/local/lib/python3.12/dist-packages (from pandas>=1.4->osmnx) (2.9.0.post0)\n",
            "Requirement already satisfied: pytz>=2020.1 in /usr/local/lib/python3.12/dist-packages (from pandas>=1.4->osmnx) (2025.2)\n",
            "Requirement already satisfied: tzdata>=2022.7 in /usr/local/lib/python3.12/dist-packages (from pandas>=1.4->osmnx) (2025.2)\n",
            "Requirement already satisfied: charset_normalizer<4,>=2 in /usr/local/lib/python3.12/dist-packages (from requests>=2.27->osmnx) (3.4.3)\n",
            "Requirement already satisfied: idna<4,>=2.5 in /usr/local/lib/python3.12/dist-packages (from requests>=2.27->osmnx) (3.10)\n",
            "Requirement already satisfied: urllib3<3,>=1.21.1 in /usr/local/lib/python3.12/dist-packages (from requests>=2.27->osmnx) (2.5.0)\n",
            "Requirement already satisfied: certifi>=2017.4.17 in /usr/local/lib/python3.12/dist-packages (from requests>=2.27->osmnx) (2025.8.3)\n",
            "Requirement already satisfied: six>=1.5 in /usr/local/lib/python3.12/dist-packages (from python-dateutil>=2.8.2->pandas>=1.4->osmnx) (1.17.0)\n",
            "Downloading osmnx-2.0.6-py3-none-any.whl (101 kB)\n",
            "\u001b[2K   \u001b[90m━━━━━━━━━━━━━━━━━━━━━━━━━━━━━━━━━━━━━━━━\u001b[0m \u001b[32m101.5/101.5 kB\u001b[0m \u001b[31m3.6 MB/s\u001b[0m eta \u001b[36m0:00:00\u001b[0m\n",
            "\u001b[?25hInstalling collected packages: osmnx\n",
            "Successfully installed osmnx-2.0.6\n"
          ]
        }
      ]
    },
    {
      "cell_type": "code",
      "source": [
        "import osmnx as ox\n",
        "import networkx as nx\n",
        "import folium\n",
        "\n",
        "start_p = input(\"Enter the staring point: \")\n",
        "end_p = input(\"Enter the end point \")\n",
        "place_n = input(\"Enter the place \")\n",
        "\n",
        "# Define the start and end points by name\n",
        "start_point_name = start_p or \"Charminar, Hyderabad, Telangana, India\"\n",
        "end_point_name = end_p or \"Golconda Fort, Hyderabad, Telangana, India\"\n",
        "place_name = place_n or \"Hyderabad, Telangana, India\"\n",
        "\n",
        "print(\"Downloading map data for Hyderabad...\")\n",
        "# Download the street network for Hyderabad\n",
        "G = ox.graph_from_place(place_name, network_type='drive')\n",
        "print(\"Map data downloaded successfully.\")\n",
        "\n",
        "# --- Find the nearest network nodes to our start and end points ---\n",
        "print(\"Geocoding locations...\")\n",
        "start_coords = ox.geocode(start_point_name)\n",
        "end_coords = ox.geocode(end_point_name)\n",
        "\n",
        "start_node = ox.nearest_nodes(G, start_coords[1], start_coords[0])\n",
        "end_node = ox.nearest_nodes(G, end_coords[1], end_coords[0])\n",
        "print(\"Locations found on the map.\")\n",
        "\n",
        "# --- Calculate the shortest path using A* algorithm ---\n",
        "print(\"Calculating shortest path with A*...\")\n",
        "shortest_route = nx.astar_path(G, start_node, end_node, weight='length')\n",
        "print(\"Shortest path calculated.\")\n",
        "\n",
        "# --- Create the interactive map visualization with Folium (UPDATED SECTION) ---\n",
        "print(\"Creating map visualization...\")\n",
        "\n",
        "# Get the latitude and longitude for each node in the route\n",
        "route_latlons = []\n",
        "for node in shortest_route:\n",
        "    point = G.nodes[node]\n",
        "    route_latlons.append([point['y'], point['x']])\n",
        "\n",
        "# Create a base map centered on the start point\n",
        "route_map = folium.Map(location=start_coords, zoom_start=13, tiles='CartoDB positron')\n",
        "\n",
        "# Add the calculated route to the map as a blue line\n",
        "folium.PolyLine(\n",
        "    locations=route_latlons,\n",
        "    color='blue',\n",
        "    weight=5,\n",
        "    opacity=0.7\n",
        ").add_to(route_map)\n",
        "\n",
        "# Add markers for start and end points\n",
        "folium.Marker(\n",
        "    location=start_coords,\n",
        "    popup=\"<b>Start:</b> Charminar\",\n",
        "    tooltip=\"Click for info\",\n",
        "    icon=folium.Icon(color='green', icon='play')\n",
        ").add_to(route_map)\n",
        "\n",
        "folium.Marker(\n",
        "    location=end_coords,\n",
        "    popup=\"<b>End:</b> Golconda Fort\",\n",
        "    tooltip=\"Click for info\",\n",
        "    icon=folium.Icon(color='red', icon='stop')\n",
        ").add_to(route_map)\n",
        "\n",
        "# Save the map to an HTML file\n",
        "output_file = \"hyderabad_path_map.html\"\n",
        "route_map.save(output_file)\n",
        "\n",
        "print(f\"\\nDone! Map saved to '{output_file}'. Open this file in your browser to see the route.\")"
      ],
      "metadata": {
        "colab": {
          "base_uri": "https://localhost:8080/"
        },
        "id": "ddGOFtMmc8Z0",
        "outputId": "455cf544-886c-435d-98b2-4dc18df1fd1c"
      },
      "execution_count": 15,
      "outputs": [
        {
          "output_type": "stream",
          "name": "stdout",
          "text": [
            "Enter the staring point: Sangaipet, Medak, Telangana, India \n",
            "Enter the end point Kodpak, Medak, Telangana, India \n",
            "Enter the place Medak, Telangana, India \n",
            "Downloading map data for Hyderabad...\n",
            "Map data downloaded successfully.\n",
            "Geocoding locations...\n",
            "Locations found on the map.\n",
            "Calculating shortest path with A*...\n",
            "Shortest path calculated.\n",
            "Creating map visualization...\n",
            "\n",
            "Done! Map saved to 'hyderabad_path_map.html'. Open this file in your browser to see the route.\n"
          ]
        }
      ]
    }
  ],
  "metadata": {
    "colab": {
      "provenance": [],
      "authorship_tag": "ABX9TyPeORI0aWSMGZqpY2DJcSAk",
      "include_colab_link": true
    },
    "kernelspec": {
      "display_name": "Python 3",
      "name": "python3"
    },
    "language_info": {
      "name": "python"
    }
  },
  "nbformat": 4,
  "nbformat_minor": 0
}